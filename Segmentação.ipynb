{
  "cells": [
    {
      "cell_type": "markdown",
      "metadata": {
        "id": "et9mJK7ErO-j"
      },
      "source": [
        "# Aula 6 - Segmentação"
      ]
    },
    {
      "cell_type": "code",
      "execution_count": null,
      "metadata": {
        "colab": {
          "base_uri": "https://localhost:8080/"
        },
        "id": "mC05NWhHe3YE",
        "outputId": "4f8254d4-ab65-416a-c855-cd87be2e5224"
      },
      "outputs": [],
      "source": [
        "import pandas as pd\n",
        "import numpy as np\n",
        "from sklearn.preprocessing import OneHotEncoder, StandardScaler\n",
        "from sklearn.decomposition import PCA\n",
        "from sklearn.cluster import KMeans\n",
        "from sklearn.metrics import silhouette_score\n",
        "import matplotlib.pyplot as plt\n",
        "\n",
        "# Ler a base\n",
        "df = pd.read_csv('../bases/clientes.csv')\n",
        "print(\"[INFO] Dimensões:\", df.shape)\n",
        "print(\"[INFO] Colunas:\", list(df.columns))\n",
        "print(df.info())"
      ]
    },
    {
      "cell_type": "markdown",
      "metadata": {
        "id": "92O76HIqfMk1"
      },
      "source": [
        "\n",
        "## Padrão básico da API do scikit-learn\n",
        "\n",
        "- fit(X, y=None): ajusta o estimador aos dados (aprende parâmetros).\n",
        "- transform(X): transforma X com base no que foi aprendido no fit.\n",
        "- fit_transform(X): faz fit + transform de uma vez (muito comum em pré-processamento).\n",
        "- predict(X): gera previsões/labels após o modelo estar ajustado.\n",
        "- fit_predict(X): ajusta e já retorna os rótulos (muito usado em clustering).\n",
        "\n",
        "#### Exemplo ilustrativo (NÃO executado aqui):\n",
        "```python\n",
        "scaler = StandardScaler()               # o algoritmo\n",
        "X_scaled = scaler.fit_transform(X)      # ajusta e transforma\n",
        "pca = PCA(n_components=2)               # o algoritmo\n",
        "X_pca = pca.fit_transform(X_scaled)     # ajusta e projeta\n",
        "km = KMeans(n_clusters=4, n_init=10, random_state=42) # o algoritmo\n",
        "labels = km.fit_predict(X_pca)          # ajusta e retorna rótulos\n",
        "```\n",
        "\n",
        "## Pré-processamento\n",
        "\n",
        "Para fazermos a segmentação, é importante fazermos o pré-processamento dos dados. Um dos principais pré-processamentos é a padronização, que nada mais é que colocar todos os dados em uma mesma **escala**. Contudo, só deve ser feito em variáveis **numéricas**. Vamos separar os dois casos (numéricos e categóricos) com o método `select_dtypes()`."
      ]
    },
    {
      "cell_type": "code",
      "execution_count": null,
      "metadata": {
        "colab": {
          "base_uri": "https://localhost:8080/"
        },
        "id": "NbxmDMQ6gZ0t",
        "outputId": "c483c00a-d14f-4e2c-adc3-1c863ffd5045"
      },
      "outputs": [],
      "source": [
        "numericas = df.select_dtypes(include='number').columns.tolist()    # Aqui, incluimos apenas os números\n",
        "categoricas = df.select_dtypes(exclude='number').columns.tolist()  # Aqui, excluimos os números, mantendo apenas as categóricas.\n",
        "\n",
        "print(f'[INFO] Numéricas: {numericas}')\n",
        "print(f'[INFO] Categóricas: {categoricas}')"
      ]
    },
    {
      "cell_type": "markdown",
      "metadata": {
        "id": "sYUWbYR6g9sn"
      },
      "source": [
        "### Padronização"
      ]
    },
    {
      "cell_type": "code",
      "execution_count": null,
      "metadata": {
        "colab": {
          "base_uri": "https://localhost:8080/"
        },
        "id": "AkZsWp3gfE9V",
        "outputId": "e91d3321-969b-469d-fb83-56fdc325ae71"
      },
      "outputs": [],
      "source": [
        "scaler = StandardScaler()\n",
        "df_scaled = scaler.fit_transform(df[numericas])  # Atenção: aqui fizemos só com as numéricas e aplicamos o fit_transform!\n",
        "\n",
        "print(\"Antes:\")\n",
        "print(df[numericas].head())\n",
        "print(\"Depois:\")\n",
        "print(pd.DataFrame(df_scaled[:5], columns=numericas))"
      ]
    },
    {
      "cell_type": "markdown",
      "metadata": {
        "id": "w-w8tmDThATS"
      },
      "source": [
        "### OneHotEncoder\n",
        "\n",
        "Quando temos variáveis categórias, não existe padronização possível. O processamento que fazemos, em geral, é transformar todas as variáveis em *OnehotEncoding*, ou seja, se temos uma coluna de Gênero com as respostas Masculino e Feminino, o OneHotEncoding transforma em duas colunas, Masculino e Feminino, onde os valores são 0 ou 1. Isso facilita o trabalho dos algoritmos e torna nossos modelos melhores."
      ]
    },
    {
      "cell_type": "code",
      "execution_count": null,
      "metadata": {
        "colab": {
          "base_uri": "https://localhost:8080/",
          "height": 512
        },
        "id": "Zf10cvqJg1wj",
        "outputId": "61d91312-111a-4e77-f246-050526a3b135"
      },
      "outputs": [],
      "source": [
        "ohe = OneHotEncoder(sparse_output=False, handle_unknown='ignore')\n",
        "df_ohe = ohe.fit_transform(df[categoricas])\n",
        "print(\"Antes:\")\n",
        "print(df[categoricas].head())\n",
        "print(\"Depois:\")\n",
        "pd.DataFrame(df_ohe, columns=ohe.get_feature_names_out()).head()"
      ]
    },
    {
      "cell_type": "markdown",
      "metadata": {
        "id": "l_ubOPcQiCDh"
      },
      "source": [
        "## Juntando tudo\n",
        "\n",
        "Agora precisamos concatenar as duas tabelas. Para isso, usamos a função `hstack`(horizontal stack, empilhando horizontal) do numpy. Percebam como as bases deixam de ser dataframes e viram vetores/matrizes."
      ]
    },
    {
      "cell_type": "code",
      "execution_count": null,
      "metadata": {
        "colab": {
          "base_uri": "https://localhost:8080/"
        },
        "id": "cExmNp5thkwt",
        "outputId": "55bb6aed-7a81-4c74-c1ee-5a0c76cb24e8"
      },
      "outputs": [],
      "source": [
        "X_processed = np.hstack((df_scaled, df_ohe))\n",
        "print(X_processed)"
      ]
    },
    {
      "cell_type": "markdown",
      "metadata": {
        "id": "xUMa-1Rjilsx"
      },
      "source": [
        "## PCA - Redução de Dimensionalidade\n",
        "\n",
        "O PCA é uma técnica estatística utilizada para reduzir a dimensionalidade dos dados sem perder as informações mais relevantes. Quando lidamos com muitas variáveis ao mesmo tempo (como idade, renda, tempo de navegação, frequência de compra etc.), é comum que algumas delas estejam correlacionadas e contenham informações repetidas. O PCA busca **identificar novas variáveis** — chamadas de componentes principais — que são **combinações lineares** das variáveis originais. Esses componentes são construídos de forma a capturar a maior quantidade possível da variância dos dados. **Na prática, isso significa que podemos resumir um conjunto complexo de variáveis em poucas dimensões**, mantendo a essência das diferenças entre os indivíduos. Por exemplo, em vez de analisar 10 variáveis separadamente, é possível projetar os dados em 2 ou 3 componentes principais e ainda assim visualizar padrões, relações e agrupamentos de forma clara e simplificada."
      ]
    },
    {
      "cell_type": "code",
      "execution_count": null,
      "metadata": {
        "colab": {
          "base_uri": "https://localhost:8080/"
        },
        "id": "Gz0YJteEiM_n",
        "outputId": "0a4afeb1-f5db-41ae-94ff-1c6f6ba5f740"
      },
      "outputs": [],
      "source": [
        "pca = PCA(n_components=2, random_state=93)      # Aqui devemos definir para quantas dimensões queremos reduzir\n",
        "X_pca = pca.fit_transform(X_processed)\n",
        "print(\"[INFO] PCA -> número de componentes:\", pca.n_components)\n",
        "print(\"[INFO] Variância explicada (% por componente):\", (pca.explained_variance_ratio_ * 100).round(3))\n",
        "print(\"[INFO] Variância explicada acumulada (%):\", round(pca.explained_variance_ratio_.sum() * 100, 3))"
      ]
    },
    {
      "cell_type": "code",
      "execution_count": null,
      "metadata": {
        "colab": {
          "base_uri": "https://localhost:8080/"
        },
        "id": "v1QMEmArjNvo",
        "outputId": "5dee3055-79a2-47a3-d7c3-189237e2116a"
      },
      "outputs": [],
      "source": [
        "X_pca[:5]"
      ]
    },
    {
      "cell_type": "markdown",
      "metadata": {
        "id": "kQHc5fhxjkvv"
      },
      "source": [
        "## K-Means\n",
        "\n",
        "O K-Means é um dos algoritmos mais conhecidos para agrupamento não supervisionado. Seu objetivo é **dividir um conjunto de observações em k grupos (clusters) de modo que os elementos dentro de um mesmo grupo sejam mais parecidos entre si do que em relação aos elementos de outros grupos** (lembrando muito o kNN). O processo funciona de forma iterativa: primeiro, escolhem-se aleatoriamente k pontos iniciais (centroides). Em seguida, cada observação é atribuída ao centroide mais próximo, formando grupos temporários. Os centroides são então recalculados com base na média das observações em cada grupo, e o processo se repete até que não haja mais mudanças significativas. O resultado final é uma partição dos dados que revela padrões de similaridade latentes. Essa técnica é especialmente útil em marketing.\n",
        "\n",
        "Mas como escolher o número ideal de grupos? Existe uma métrica chamada **Silhouette Score**. O Silhouette Score é uma métrica que avalia a qualidade de um agrupamento. Quando usamos algoritmos como o K-Means, precisamos decidir o número de grupos (k) mais adequado. O Silhouette ajuda justamente nessa escolha, medindo o quão bem cada ponto está posicionado em relação ao seu próprio cluster e aos demais. O cálculo considera dois fatores: (1) a cohesão, ou seja, o quão próximo um ponto está dos elementos do seu próprio grupo; e (2) a separação, isto é, o quão distante ele está dos elementos de outros grupos.\n",
        "\n",
        "O resultado é um valor que varia entre -1 e 1. Valores próximos de 1 indicam que os pontos estão bem agrupados dentro de seus clusters e distantes dos demais (ou seja, os grupos estão bem definidos). Valores próximos de 0 sugerem sobreposição entre clusters, indicando que a separação não é clara. Já valores negativos indicam que muitos pontos podem ter sido atribuídos ao grupo “errado”. Na prática, o Silhouette Score permite comparar diferentes segmentações (por exemplo, k=2, k=3, k=4) e escolher aquela que apresenta a melhor combinação entre coesão interna e separação externa, garantindo uma segmentação mais robusta e interpretável.\n",
        "\n",
        "Executaremos, com um `for`, vários k's possíveis, guardaremos o valor e aí veremos qual o maior, para então utilizá-lo definitivamente."
      ]
    },
    {
      "cell_type": "code",
      "execution_count": null,
      "metadata": {
        "colab": {
          "base_uri": "https://localhost:8080/"
        },
        "id": "4TA-umDcjiW7",
        "outputId": "9cfd23ab-f7f6-4f60-fa68-74d340a9839f"
      },
      "outputs": [],
      "source": [
        "scores = {}\n",
        "for k in range(2, 21): # Vou fazer até 20 K (21 - 1)\n",
        "  km_tmp = KMeans(n_clusters=k, n_init=10, random_state=42)\n",
        "  labels_tmp = km_tmp.fit_predict(X_pca)\n",
        "  score_tmp = silhouette_score(X_pca, labels_tmp)\n",
        "  scores[k] = score_tmp\n",
        "\n",
        "print(\"[INFO] Silhouette por K (2..20):\")\n",
        "for k, score in scores.items():\n",
        "  print(f\"K={k}: {score:.5f}\")"
      ]
    },
    {
      "cell_type": "code",
      "execution_count": null,
      "metadata": {
        "colab": {
          "base_uri": "https://localhost:8080/",
          "height": 564
        },
        "id": "7yhnUr-ppJe6",
        "outputId": "a96a845b-1376-4d19-d986-0374d0938181"
      },
      "outputs": [],
      "source": [
        "# Plota o silhouette score\n",
        "plt.figure(figsize=(8, 6))\n",
        "plt.plot(list(scores.keys()), list(scores.values()), marker='o')\n",
        "plt.xlabel('Número de Clusters (K)')\n",
        "plt.ylabel('Silhouette Score')\n",
        "plt.xticks(list(scores.keys()))\n",
        "plt.title('Silhouette Score por Número de Clusters (K)')\n",
        "plt.show()"
      ]
    },
    {
      "cell_type": "code",
      "execution_count": null,
      "metadata": {
        "colab": {
          "base_uri": "https://localhost:8080/"
        },
        "id": "hrOxnXgblgw9",
        "outputId": "e3256afe-0cc5-428e-d856-22b0fcd01be2"
      },
      "outputs": [],
      "source": [
        "best_k = max(scores, key=scores.get) + 4 # O melhor, nos dados fakes, foi o 2, mas eu quis colocar o 6 para termos variabilidade, por isso somei 4.k\n",
        "print(\"[INFO] Melhor K:\", best_k)"
      ]
    },
    {
      "cell_type": "markdown",
      "metadata": {
        "id": "dmx1qwednkb3"
      },
      "source": [
        "Agora rodamos com o `best_k`"
      ]
    },
    {
      "cell_type": "code",
      "execution_count": null,
      "metadata": {
        "colab": {
          "base_uri": "https://localhost:8080/",
          "height": 217
        },
        "id": "jbCLra9LmOP2",
        "outputId": "bb20a8ea-c033-4e46-fa61-c833bcac99e1"
      },
      "outputs": [],
      "source": [
        "kmeans = KMeans(n_clusters=best_k, n_init=10, random_state=42)\n",
        "labels = kmeans.fit_predict(X_pca)\n",
        "df_clusters = df.copy()\n",
        "df_clusters['Cluster'] = labels\n",
        "print(\"[INFO] Tabela com rótulos:\")\n",
        "df_clusters.head()"
      ]
    },
    {
      "cell_type": "markdown",
      "metadata": {
        "id": "hqn2Pgrfoedx"
      },
      "source": [
        "### Entendendo cada cluster\n",
        "\n",
        "Para entender cada segmento/cluster, podemos extrair métricas de cada um deles. Para as variáveis numéricas, podemos extrair média/mediana. Para as categóricas, podemos entender a % de cada categoria interna."
      ]
    },
    {
      "cell_type": "code",
      "execution_count": null,
      "metadata": {
        "colab": {
          "base_uri": "https://localhost:8080/"
        },
        "id": "kmX_bgxDn0Yo",
        "outputId": "9cfdd02a-f0ba-402b-fa8c-c35de8cc0242"
      },
      "outputs": [],
      "source": [
        "print(\"\\n[Médias numéricas por cluster]\")\n",
        "print(df_clusters.groupby(\"Cluster\")[numericas].mean().round(2)) # Aqui tiramos a média e usamos .round(2) para arredondar a 2 casas decimais.\n",
        "\n",
        "for c in categoricas:\n",
        "  print(f\"\\n[Distribuição de '{c}' por cluster' (%)]\")\n",
        "  dist = (\n",
        "      df_clusters.groupby(\"Cluster\")[c]\n",
        "      .value_counts(normalize=True) # Tiramos a proporção de cada\n",
        "      .rename(\"pct\")                # Renomeamos pra pct\n",
        "      .mul(100)                     # Multiplicamos por 100\n",
        "      .round(1)                     # arredondamos pra 1 casa decimal\n",
        "      .unstack(fill_value=0)        # Fazemos um pivot (deitamos a tabela)\n",
        "  )\n",
        "  print(dist)\n",
        "  print() # só pra pular linha"
      ]
    },
    {
      "cell_type": "markdown",
      "metadata": {
        "id": "Ydzw2ZLvpA1T"
      },
      "source": [
        "## Visualizando os clusters"
      ]
    },
    {
      "cell_type": "code",
      "execution_count": null,
      "metadata": {
        "colab": {
          "base_uri": "https://localhost:8080/",
          "height": 607
        },
        "id": "tN0x_Hy8n96E",
        "outputId": "f26c46b8-3b2c-486d-e8cb-a5d9274ab146"
      },
      "outputs": [],
      "source": [
        "plt.figure(figsize=(8, 6))\n",
        "scatter = plt.scatter(X_pca[:, 0], X_pca[:, 1], c=labels)\n",
        "plt.xlabel(\"PCA 1\")\n",
        "plt.ylabel(\"PCA 2\")\n",
        "plt.title(f\"K-Means (k={best_k}) no espaço 2D do PCA\")\n",
        "handles, _ = scatter.legend_elements(prop=\"colors\", alpha=0.6)\n",
        "plt.legend(handles, [f\"Cluster {i}\" for i in range(best_k)], title=\"Clusters\", loc=\"best\")\n",
        "plt.tight_layout()"
      ]
    },
    {
      "cell_type": "markdown",
      "metadata": {
        "id": "ByYIPXj1qROP"
      },
      "source": [
        "# Agora, a IA...\n",
        "\n",
        "> Prompt: Você é um analista de marketing sênior. Considerando os seguintes dados, construa personas para cada cluster, que tenham relação com as métricas entregues. Ao final, crie um resumo estratégico.\n",
        "\n",
        "> Resposta:\n",
        "\n",
        "📌 Cluster 0 – Consumidores Racionais de Média Renda\n",
        "\n",
        "\t•\tIdade média: 37 anos\n",
        "\t•\tGênero predominante: ligeira maioria masculina (54,5%)\n",
        "\t•\tEstado civil: quase metade casados (45,5%), mas muitos solteiros (37,4%)\n",
        "\t•\tRenda: concentrada entre 2 a 5 mil (34,1%) e até 2 mil (25,2%)\n",
        "\t•\tEscolaridade: equilibrada, mas com destaque para ensino superior (35,8%)\n",
        "\t•\tComportamento digital: acessam pouco o site (3,3 min), ~3 visitas/mês\n",
        "\t•\tCompra média: R$ 147,15\n",
        "\t•\tCategoria favorita: Moda (29,3%) e Eletrônicos (21,1%)\n",
        "\t•\tDispositivo: majoritariamente mobile (47,2%)\n",
        "\n",
        "👉 Persona: “André, 37 anos, analista de escritório. Compra online quando precisa, principalmente roupas e eletrônicos. Busca preço acessível, faz compras rápidas pelo celular, não explora muito o site. Prefere praticidade a experiências longas de navegação.”\n",
        "\n",
        "⸻\n",
        "\n",
        "📌 Cluster 1 – Premium Exploradores Digitais\n",
        "\n",
        "\t•\tIdade média: 38 anos\n",
        "\t•\tGênero predominante: feminino (52,4%), presença de pessoas que se identificam como “outro” (7,1%)\n",
        "\t•\tEstado civil: casados (47,6%), mas forte presença de solteiros (33,3%)\n",
        "\t•\tRenda: faixa mais baixa até 2 mil é expressiva (35,7%), mas também aparecem em 10 a 20 mil (19%)\n",
        "\t•\tEscolaridade: ensino médio (40,5%) e superior (33,3%)\n",
        "\t•\tComportamento digital: passam bastante tempo no site (12,7 min), 6,4 visitas/mês\n",
        "\t•\tCompra média: muito elevada – R$ 580,95\n",
        "\t•\tCategoria favorita: Eletrônicos (23,8%), Livros (16,7%) e Alimentos (19%)\n",
        "\t•\tDispositivo: forte uso de desktop (59,5%)\n",
        "\n",
        "👉 Persona: “Fernanda, 38 anos, profissional liberal. Explora detalhadamente o site, gosta de comparar e avaliar produtos antes de comprar. Valoriza eletrônicos de ponta e experiências digitais mais ricas. Apesar da renda diversificada no cluster, é quem mais gasta individualmente, demonstrando disposição para investir em compras maiores.”\n",
        "\n",
        "⸻\n",
        "\n",
        "📌 Cluster 2 – Tradicionalistas de Baixa Frequência\n",
        "\n",
        "\t•\tIdade média: 57 anos\n",
        "\t•\tGênero: equilíbrio entre masculino (48,6%) e feminino (45,9%)\n",
        "\t•\tEstado civil: maioria casados (42,2%) e solteiros (41,3%)\n",
        "\t•\tRenda: prevalece 2 a 5 mil (37,6%), seguido por 5 a 10 mil (26,6%)\n",
        "\t•\tEscolaridade: ensino superior (38,5%) e médio (35,8%)\n",
        "\t•\tComportamento digital: baixíssimo tempo de navegação (2,2 min), mas ~5 visitas/mês\n",
        "\t•\tCompra média: baixa – R$ 131,19\n",
        "\t•\tCategoria favorita: Moda (25,7%) e Casa (15,6%)\n",
        "\t•\tDispositivo: preferem mobile (57,8%)\n",
        "\n",
        "👉 Persona: “José, 56 anos, servidor público prestes a se aposentar. Usa o site de forma prática e direta, faz compras simples (roupas, itens para casa), sem gastar muito tempo navegando. Valoriza funcionalidade e confiança da marca.”\n",
        "\n",
        "⸻\n",
        "\n",
        "📌 Cluster 3 – Jovens Aspiracionais\n",
        "\n",
        "\t•\tIdade média: 28 anos\n",
        "\t•\tGênero: predominância masculina (61,9%) e presença significativa de “outro” (11,9%)\n",
        "\t•\tEstado civil: mais solteiros (40,5%) e menor taxa de casados (33,3%)\n",
        "\t•\tRenda: distribuída entre até 2 mil (28,6%), 2 a 5 mil (23,8%) e 5 a 10 mil (23,8%)\n",
        "\t•\tEscolaridade: ensino médio (38,1%), mas também destaque para pós-graduação (21,4%)\n",
        "\t•\tComportamento digital: alta permanência no site (10 min), ~3,7 visitas/mês\n",
        "\t•\tCompra média: R$ 365,48\n",
        "\t•\tCategoria favorita: Moda (26,2%) e Eletrônicos (23,8%)\n",
        "\t•\tDispositivo: equilibrado entre desktop (45,2%) e mobile (42,9%)\n",
        "\n",
        "👉 Persona: “Lucas, 27 anos, estudante de pós-graduação. Busca se afirmar socialmente com moda e tecnologia, navega bastante no site antes de comprar. Apesar da renda ainda limitada, está disposto a gastar relativamente mais em itens que considera relevantes para seu estilo de vida.”\n",
        "\n",
        "⸻\n",
        "\n",
        "📌 Cluster 4 – Consumidores Pragmáticos de Renda Média\n",
        "\n",
        "\t•\tIdade média: 42 anos\n",
        "\t•\tGênero: equilíbrio entre feminino (50%) e masculino (45,8%)\n",
        "\t•\tEstado civil: maioria solteiros (44,9%)\n",
        "\t•\tRenda: concentrada entre 2 a 5 mil (35,6%) e 5 a 10 mil (22,9%)\n",
        "\t•\tEscolaridade: superior (38,1%) e médio (36,4%)\n",
        "\t•\tComportamento digital: tempo moderado no site (5,8 min), ~5,5 visitas/mês\n",
        "\t•\tCompra média: R$ 226,27\n",
        "\t•\tCategoria favorita: Alimentos (22%), Moda (25,4%) e Esportes (18,6%)\n",
        "\t•\tDispositivo: equilibrado desktop (47,5%) e mobile (42,4%)\n",
        "\n",
        "👉 Persona: “Patrícia, 41 anos, profissional de escritório. Equilibra frequência de visitas e gasto médio, compra produtos práticos como alimentos, esportes e roupas. Navega com alguma calma, mas sem explorar tanto quanto o cluster premium. Foca em custo-benefício.”\n",
        "\n",
        "⸻\n",
        "\n",
        "📌 Cluster 5 – Heavy Users de Renda Média Alta\n",
        "\n",
        "\t•\tIdade média: 55 anos\n",
        "\t•\tGênero predominante: feminino (62,1%)\n",
        "\t•\tEstado civil: quase metade casados (48,5%), muitos solteiros (42,4%)\n",
        "\t•\tRenda: maioria entre 2 a 5 mil (40,9%), mas também em até 2 mil (22,7%) e acima de 20 mil (7,6%)\n",
        "\t•\tEscolaridade: variada, mas presença de ensino médio (31,8%) e superior (33,3%)\n",
        "\t•\tComportamento digital: tempo reduzido no site (3 min), mas altíssima frequência (8,4 visitas/mês)\n",
        "\t•\tCompra média: R$ 221,21\n",
        "\t•\tCategoria favorita: Alimentos (24,2%), Eletrônicos (22,7%) e Moda (22,7%)\n",
        "\t•\tDispositivo: predominantemente mobile (57,6%)\n",
        "\n",
        "👉 Persona: “Maria, 54 anos, empresária. Visita o site frequentemente, mas faz compras rápidas e recorrentes, principalmente alimentos e itens básicos. É fiel, mas prefere praticidade a longas explorações. Usa o celular quase sempre para comprar.”\n",
        "\n",
        "⸻\n",
        "\n",
        "🔑 Resumo Estratégico:\n",
        "\n",
        "\t•\tClusters 1 e 3 são os mais aspiracionais, com ticket médio alto e foco em experiência (premium explorers e jovens aspiracionais).\n",
        "\t•\tClusters 0, 2 e 4 representam perfis mais racionais/pragmáticos, onde ofertas, descontos e praticidade são decisivos.\n",
        "\t•\tCluster 5 mostra um perfil de heavy user, alto em frequência, menor ticket por compra, mas forte para fidelização e programas de assinatura."
      ]
    },
    {
      "cell_type": "markdown",
      "metadata": {
        "id": "-bBaOKChq4GD"
      },
      "source": [
        "> Prompt: Monte estratégias de comunicação e campanhas específicas para cada persona (ex.: canais ideais, tom de voz, tipos de oferta), traduzindo os perfis em ações de marketing.\n",
        "\n",
        "> Resposta:\n",
        "\n",
        "Cluster 0 – Consumidores Racionais de Média Renda (“André”)\n",
        "\n",
        "•\tPerfil-chave: compra por necessidade, ticket médio baixo, mobile-first.\n",
        "\n",
        "•\tCanais ideais:\n",
        "  •\tE-mail marketing simples e direto.\n",
        "  •\tPush notifications no app ou mobile.\n",
        "  •\tRedes sociais populares (Facebook, Instagram) com posts promocionais.\n",
        "\n",
        "•\tTom de voz: pragmático, objetivo, destacando benefícios funcionais (“compre agora”, “leve mais por menos”).\n",
        "\n",
        "•\tCampanhas:\n",
        "  •\tPromoções relâmpago e cupons de desconto.\n",
        "  •\tCombos e kits econômicos.\n",
        "  •\tRemarketing focado em produtos vistos, mas não comprados.\n",
        "\n",
        "•\tOferta ideal: “Frete grátis em compras acima de R$ 200” ou “leve 3, pague 2”.\n",
        "\n",
        "⸻\n",
        "\n",
        "Cluster 1 – Premium Exploradores Digitais (“Fernanda”)\n",
        "\n",
        "•\tPerfil-chave: ticket médio mais alto, exploram o site, buscam experiência premium.\n",
        "\n",
        "•\tCanais ideais:\n",
        "  •\tNewsletter premium com conteúdo exclusivo.\n",
        "  •\tLinkedIn Ads para reforçar status e diferenciação.\n",
        "  •\tYouTube e Instagram com vídeos explicativos de produtos.\n",
        "\n",
        "•\tTom de voz: aspiracional, sofisticado, consultivo (“conheça o que há de melhor”, “experiência exclusiva para você”).\n",
        "\n",
        "•\tCampanhas:\n",
        "  •\tPré-lançamentos de produtos com acesso antecipado.\n",
        "  •\tProgramas de fidelidade diferenciados (VIP club).\n",
        "  •\tConteúdo educativo (reviews, guias de compra).\n",
        "\n",
        "•\tOferta ideal: “Acesso exclusivo a lançamentos premium” ou cashback em eletrônicos.\n",
        "\n",
        "⸻\n",
        "\n",
        "Cluster 2 – Tradicionalistas de Baixa Frequência (“José”)\n",
        "\n",
        "•\tPerfil-chave: idade mais alta, baixa interação, compras funcionais.\n",
        "\n",
        "•\tCanais ideais:\n",
        "\t•\tE-mail marketing básico com foco em praticidade.\n",
        "\t•\tSMS promocional (direto ao ponto, baixo custo).\n",
        "\t•\tFacebook Ads segmentado para público maduro.\n",
        "\n",
        "•\tTom de voz: claro, confiável, sem exageros (“praticidade e confiança para o seu dia a dia”).\n",
        "\n",
        "•\tCampanhas:\n",
        "\t•\tProdutos do cotidiano (moda básica, utilidades domésticas).\n",
        "\t•\t“Top sellers” e recomendações práticas.\n",
        "\t•\tGarantias estendidas e facilidades de pagamento.\n",
        "\n",
        "•\tOferta ideal: “Compre sem preocupação: garantia extra grátis” ou descontos em compras recorrentes.\n",
        "\n",
        "⸻\n",
        "\n",
        "Cluster 3 – Jovens Aspiracionais (“Lucas”)\n",
        "\n",
        "•\tPerfil-chave: jovens, aspiracionais, gastam acima da média em moda e eletrônicos.\n",
        "\n",
        "•\tCanais ideais:\n",
        "\t•\tInstagram e TikTok Ads com forte apelo visual.\n",
        "\t•\tInfluenciadores digitais para recomendação social.\n",
        "\t•\tGamificação no app/site (badges, pontos, desafios).\n",
        "\n",
        "•\tTom de voz: jovem, dinâmico, conectado (“seu estilo, sua vibe”, “a moda que fala por você”).\n",
        "\n",
        "•\tCampanhas:\n",
        "\t•\t“Drops” de moda limitada ou collabs exclusivas.\n",
        "\t•\tCupons para compras compartilhadas com amigos.\n",
        "\t•\tConteúdos de lifestyle com storytelling aspiracional.\n",
        "\n",
        "•\tOferta ideal: “Ganhe 15% de desconto se compartilhar sua compra no Instagram” ou collabs de edição limitada.\n",
        "\n",
        "⸻\n",
        "\n",
        "Cluster 4 – Consumidores Pragmáticos de Renda Média (“Patrícia”)\n",
        "\n",
        "•\tPerfil-chave: equilibrados, valorizam custo-benefício, compram alimentos, moda e esportes.\n",
        "\n",
        "•\tCanais ideais:\n",
        "\t•\tE-mail marketing segmentado por categoria de interesse.\n",
        "\t•\tInstagram e Facebook Ads com foco em utilidade.\n",
        "\t•\tMarketplaces parceiros (buscam comparação de preços).\n",
        "\n",
        "•\tTom de voz: racional, acessível, reforçando conveniência e economia (“tudo o que você precisa em um só lugar”).\n",
        "\n",
        "•\tCampanhas:\n",
        "\t•\tKits de produtos (moda + esportes, alimentos + utilidades).\n",
        "\t•\tBenefícios como parcelamento sem juros.\n",
        "\t•\tConteúdo prático em blog/newsletter (“5 dicas para economizar comprando online”).\n",
        "\n",
        "•\tOferta ideal: “Cashback de 10% em compras semanais” ou programas de pontos.\n",
        "\n",
        "⸻\n",
        "\n",
        "Cluster 5 – Heavy Users de Renda Média Alta (“Maria”)\n",
        "\n",
        "•\tPerfil-chave: alta frequência de visitas, compras rápidas e recorrentes, mobile-first.\n",
        "\n",
        "•\tCanais ideais:\n",
        "\t•\tApp com push notifications personalizadas.\n",
        "\t•\tWhatsApp Marketing para ofertas imediatas.\n",
        "\t•\tPrograma de fidelidade no app.\n",
        "\n",
        "•\tTom de voz: próximo, ágil, focado em conveniência (“seu pedido rápido, na palma da mão”).\n",
        "\n",
        "•\tCampanhas:\n",
        "\t•\tPrograma de assinatura de produtos (alimentos, moda básica).\n",
        "\t•\tPromoções exclusivas para compras rápidas.\n",
        "\t•\t“Ofertas do dia” notificadas direto no celular.\n",
        "\n",
        "•\tOferta ideal: “Assine e economize 20% todo mês” ou promoções para compras recorrentes.\n",
        "\n",
        "⸻\n",
        "\n",
        "🔑 Insights Gerais\n",
        "\n",
        "\t•\tClusters 1 e 3 → foco em diferenciação, experiência premium, branding forte.\n",
        "\t•\tClusters 0, 2 e 4 → apelo em conveniência, preço e confiança.\n",
        "\t•\tCluster 5 → altíssimo potencial de fidelização via recorrência (assinaturas, clube de vantagens)."
      ]
    },
    {
      "cell_type": "code",
      "execution_count": null,
      "metadata": {
        "id": "QBTxyEgGpETB"
      },
      "outputs": [],
      "source": []
    }
  ],
  "metadata": {
    "colab": {
      "provenance": []
    },
    "kernelspec": {
      "display_name": "Python 3",
      "name": "python3"
    },
    "language_info": {
      "name": "python"
    }
  },
  "nbformat": 4,
  "nbformat_minor": 0
}
